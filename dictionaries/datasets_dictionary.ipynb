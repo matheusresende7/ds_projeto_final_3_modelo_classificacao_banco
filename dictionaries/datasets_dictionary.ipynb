{
 "cells": [
  {
   "cell_type": "markdown",
   "metadata": {},
   "source": [
    "# Dicionário de datasets"
   ]
  },
  {
   "cell_type": "markdown",
   "metadata": {},
   "source": [
    "| Dataset               | Descrição                                                                                         |\n",
    "|---------------------------|-------------------------------------------------------------------------------------------------------|\n",
    "| lean                   | Dataset tratado, deixando somente as colunas importantes, sem informações redundantes                 |\n",
    "| raw                    | Dataset inicial do projeto                                                                            |"
   ]
  }
 ],
 "metadata": {
  "language_info": {
   "name": "python"
  }
 },
 "nbformat": 4,
 "nbformat_minor": 2
}
