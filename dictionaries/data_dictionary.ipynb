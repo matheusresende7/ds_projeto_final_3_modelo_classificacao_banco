{
 "cells": [
  {
   "cell_type": "markdown",
   "metadata": {},
   "source": [
    "# Dicionário de dados"
   ]
  },
  {
   "cell_type": "markdown",
   "metadata": {},
   "source": [
    "- **Arquivo:** raw_dataset.csv\n",
    "\n",
    "<br>\n",
    "\n",
    "| Número | Coluna | Descrição                       | Tipo de Dado |\n",
    "|--------|--------|---------------------------------|--------------|\n",
    "| 1      | Time   | Tempo da transação              | float        |\n",
    "| 2      | V1     | Dado anonimizado               | float        |\n",
    "| 3      | V2     | Dado anonimizado               | float        |\n",
    "| 4      | V3     | Dado anonimizado               | float        |\n",
    "| 5      | V4     | Dado anonimizado               | float        |\n",
    "| 6      | V5     | Dado anonimizado               | float        |\n",
    "| 7      | V6     | Dado anonimizado               | float        |\n",
    "| 8      | V7     | Dado anonimizado               | float        |\n",
    "| 9      | V8     | Dado anonimizado               | float        |\n",
    "| 10     | V9     | Dado anonimizado               | float        |\n",
    "| 11     | V10    | Dado anonimizado               | float        |\n",
    "| 12     | V11    | Dado anonimizado               | float        |\n",
    "| 13     | V12    | Dado anonimizado               | float        |\n",
    "| 14     | V13    | Dado anonimizado               | float        |\n",
    "| 15     | V14    | Dado anonimizado               | float        |\n",
    "| 16     | V15    | Dado anonimizado               | float        |\n",
    "| 17     | V16    | Dado anonimizado               | float        |\n",
    "| 18     | V17    | Dado anonimizado               | float        |\n",
    "| 19     | V18    | Dado anonimizado               | float        |\n",
    "| 20     | V19    | Dado anonimizado               | float        |\n",
    "| 21     | V20    | Dado anonimizado               | float        |\n",
    "| 22     | V21    | Dado anonimizado               | float        |\n",
    "| 23     | V22    | Dado anonimizado               | float        |\n",
    "| 24     | V23    | Dado anonimizado               | float        |\n",
    "| 25     | V24    | Dado anonimizado               | float        |\n",
    "| 26     | V25    | Dado anonimizado               | float        |\n",
    "| 27     | V26    | Dado anonimizado               | float        |\n",
    "| 28     | V27    | Dado anonimizado               | float        |\n",
    "| 29     | V28    | Dado anonimizado               | float        |\n",
    "| 30     | Amount | Valor da transação              | float        |\n",
    "| 31     | Class  | 1 se for fraude, 0 caso contrário | int          |"
   ]
  }
 ],
 "metadata": {
  "language_info": {
   "name": "python"
  }
 },
 "nbformat": 4,
 "nbformat_minor": 2
}
